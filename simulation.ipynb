{
 "cells": [
  {
   "cell_type": "code",
   "execution_count": null,
   "metadata": {},
   "outputs": [],
   "source": [
    "from vehicle import vehicle"
   ]
  },
  {
   "cell_type": "code",
   "execution_count": null,
   "metadata": {},
   "outputs": [],
   "source": [
    "class Simulation():\n",
    "    def __init__(self, model_number, number_of_cars, track_length, time_step, total_time, correction_factor, initial_time):\n",
    "        self.model_number = model_number\n",
    "        self.number_of_cars = number_of_cars\n",
    "        self.track_length = track_length\n",
    "        self.track_length = track_length #fim_da_pista in meters\n",
    "        self.time_steps = time_step #passos_tempo -> \n",
    "        self.total_time = total_time #tempo_total\n",
    "        self.correction_factor = correction_factor #c\n",
    "        self.initial_time = initial_time #t_inicial\n",
    "        self.time_step = (self.total_time - self.initial_time)/self.time_steps\n",
    "\n",
    "    def run_simulation(self, params):\n",
    "        #need to create a vehicle\n",
    "        v = np.ones(self.number_of_cars) * params['v_inicial']\n",
    "        x_vec = np.linspace(0,self.track_length-self.track_length/6,self.number_of_cars)\n",
    "        x_vec = x_vec[::-1] # inverter as posições \n",
    "        x_v_vec = np.concatenate(([x_vec], [v]), axis=0).reshape(1,-1)[0] # criar um vetor de velocidade\n",
    "        ts = np.linspace(0,self.total_time,self.time_step)\n",
    "        y_s = []\n",
    "        y_s.append(x_v_vec)\n",
    "        for i in range(1,len(ts)):\n",
    "            y_s.append(runge_kutta_4(y_s[-1], x_v_dash, ts[i], ts[i]-ts[i-1], params))\n",
    "        y_s = np.array(y_s)\n",
    "        return y_s\n",
    "\n",
    "    def main_function(self):\n",
    "        \n",
    "        params['x_v_dash'] \t= [2*np.zeros(params['n_carros'])]\n",
    "\n",
    "        for model_in_use in range(2): #0 == IDM / 1 == IIDM / 2 == ACC\n",
    "            self.model_number = model_in_use\n",
    "            v = np.ones(self.number_of_cars) * v_inicial\n",
    "            x_vec = np.linspace(0,fim_da_pista-fim_da_pista/6,n_carros)\n",
    "            x_vec = x_vec[::-1]\n",
    "            x_v_vec = np.concatenate(([x_vec], [v]), axis=0).reshape(1,-1)[0]\n",
    "            ts = np.linspace(0,tempo_total,passos_tempo)\n",
    "            y_s=[]\n",
    "            y_s.append(x_v_vec)\n",
    "            for i in range(1,len(ts)):\n",
    "                y_s.append(runge_kutta_4(y_s[-1], x_v_dash, ts[i], ts[i]-ts[i-1], params))\n",
    "            y_s = np.array(y_s)\n",
    "            # Plot posição e velocidade de cada carro\n",
    "            fig, axes = plt.subplots(1,2, figsize=(16,8))\n",
    "            for car in range(n_carros):\n",
    "                axes[0].plot(ts, y_s[:,car])\n",
    "            # Plot velocidade em função do tempo\n",
    "            for car in range(n_carros):\n",
    "                axes[1].plot(ts, y_s[:,car+n_carros])\n",
    "            axes[0].set_xlabel('Tempo')\n",
    "            axes[0].set_ylabel('Deslocamento') \n",
    "            axes[1].set_xlabel('Tempo')\n",
    "            axes[1].set_ylabel('Velocidade')\n",
    "            plt.show()\n",
    "            # Plot carros rodando em circulos\n",
    "            r = (fim_da_pista/(2*np.pi))\n",
    "            fx = lambda x_vec: r*np.sin((x_vec/fim_da_pista)*2*np.pi)\n",
    "            fy = lambda x_vec: r*np.cos((x_vec/fim_da_pista)*2*np.pi)\n",
    "            fig, ax = plt.subplots()\n",
    "            t = np.arange(0, fim_da_pista, dtype=np.float32)\n",
    "            t_pos = np.linspace(0, 2*np.pi, n_carros)\n",
    "            line, = ax.plot(fx(t), fy(t))\n",
    "            cars = ax.scatter(fx(x_vec), fy(x_vec), c='g')\n",
    "        def animate(i):\n",
    "            x_vec = y_s[i,:n_carros]\n",
    "            x_vec = np.remainder(x_vec, fim_da_pista)\n",
    "            new_pos = np.concatenate(([fx(x_vec)], [fy(x_vec)]), axis=0)\n",
    "            cars.set_offsets(new_pos.T)\n",
    "            return cars,\n",
    "        def init():\n",
    "            return cars,\n",
    "        ani = animation.FuncAnimation(fig, animate, range(passos_tempo), init_func=init, interval=1, blit=False)\n",
    "        ax.set_ylabel('$x$')\n",
    "        ax.set_ylabel('$y$')\n",
    "        plt.show()\n"
   ]
  },
  {
   "cell_type": "code",
   "execution_count": null,
   "metadata": {},
   "outputs": [],
   "source": []
  }
 ],
 "metadata": {
  "kernelspec": {
   "display_name": "Python 3.10.0 64-bit",
   "language": "python",
   "name": "python3"
  },
  "language_info": {
   "name": "python",
   "version": "3.10.0"
  },
  "orig_nbformat": 4,
  "vscode": {
   "interpreter": {
    "hash": "369f2c481f4da34e4445cda3fffd2e751bd1c4d706f27375911949ba6bb62e1c"
   }
  }
 },
 "nbformat": 4,
 "nbformat_minor": 2
}
