{
 "cells": [
  {
   "cell_type": "markdown",
   "metadata": {},
   "source": [
    "Equação de posição:\n"
   ]
  },
  {
   "cell_type": "code",
   "execution_count": null,
   "metadata": {},
   "outputs": [],
   "source": []
  },
  {
   "cell_type": "code",
   "execution_count": null,
   "metadata": {},
   "outputs": [],
   "source": [
    "class Functions():\n",
    "    \n",
    "    def position_equation(self, initial_position:float, velocity:float, time:float) -> float:  #posição\n",
    "        return initial_position + velocity*time\n",
    "\n",
    "    def zero_array(self, length: int) -> list:\n",
    "        \n",
    "        result_array = []\n",
    "        iterator = 0 \n",
    "        \n",
    "        while iterator < length:\n",
    "            result_array.append(0)\n",
    "            iterator += 1\n",
    "        \n",
    "        return result_array    \n",
    "    \n",
    "    def amax_like(array_to_find_max, axis ):\n",
    "        return None\n",
    "    \n",
    "    def vstack_like():\n",
    "        return None\n",
    "    \n",
    "    def root_function(self, number_to_root, )\n",
    "    def sqrt_like(self, number_to_sqrt):\n",
    "        return None\n",
    "\n",
    "    \n",
    "\n",
    "functions = Functions()"
   ]
  },
  {
   "cell_type": "code",
   "execution_count": null,
   "metadata": {},
   "outputs": [],
   "source": [
    "def s_asterisco()"
   ]
  },
  {
   "cell_type": "code",
   "execution_count": null,
   "metadata": {},
   "outputs": [],
   "source": [
    "class Vehicle():\n",
    "    def __init__(self, guided_by, desired_speed, initial_speed, time_between_cars, maximum_acceleration\n",
    "    , maximum_slowdown, acceleration_exponent, minimum_interval, track_length, time_step, total_time,\n",
    "    correction_factor, initial_time):\n",
    "        self.guided_by = guided_by\n",
    "        self.desired_speed = desired_speed #v0\n",
    "        self.initial_speed = initial_speed #v_inicial\n",
    "        self.time_between_cars = time_between_cars #T\n",
    "        self.maximum_acceleration = maximum_acceleration #a\n",
    "        self.maximum_slowdown = maximum_slowdown #b\n",
    "        self.acceleration_exponent = acceleration_exponent #delta\n",
    "        self.minimum_interval = minimum_interval #s0 in meters\n",
    "        self.track_length = track_length #fim_da_pista in meters\n",
    "        self.time_steps = time_step #passos_tempo -> \n",
    "        self.total_time = total_time #tempo_total\n",
    "        self.correction_factor = correction_factor #c\n",
    "        self.initial_time = initial_time #t_inicial\n",
    "        self.time_step = (self.total_time - self.initial_time)/self.time_steps\n",
    "        #self.number_of_cars = number_of_cars\n",
    "    \n",
    "    def s_asterisco(self, delta_v,v):\n",
    "        zeros =  functions.zero_array(length = len(delta_v))\n",
    "        return self.minimum_interval + np.amax(np.vstack((zeros, v*self.time_between_cars + v*delta_v/(2*functions.sqrt_like(self.maximum_acceleration * self.maximum_slowdown)))), axis = 0)\n",
    "        #return s0 + np.amax(np.vstack((zeros,v*T + v*delta_v/(2*np.sqrt(a*b)))),axis=0) #Eq. 11.15\n",
    "    \n",
    "    def a_IDM(self, v,s,delta_v,params): #IDM\n",
    "        return self.maximum_acceleration*(1-(v/self.desired_speed)**(self.acceleration_exponent) - (self.s_asterisco(v, delta_v)/self.s)**2) #Eq. 11.14\n",
    "    \n",
    "    def a_free_f(self, v):#page 196\n",
    "        \n",
    "        comp = (v <= self.desired_speed) # 1 or 0\n",
    "        \n",
    "        return (comp*(self.maximum_acceleration*(1-(v/self.desired_speed)**self.acceleration_exponent))\n",
    "        +(1-comp)*(-self.maximum_slowdown*(1-(self.desired_speed/v)**\n",
    "        (self.maximum_acceleration*self.acceleration_exponent/self.maximum_slowdown)))) #Eq. 11.22\n",
    "\n",
    "    \n",
    "#class IDM(Vehicle):\n",
    "#class HDM(Vehicle):        \n",
    "    \n",
    "\n",
    "    params['passos_tempo'] = 1000 # numero de intervalo de tempo\n",
    "    params['c'] = 0.99 # fator de correção\n",
    "    params['t_inicial'] = 0.0 #tempo inicial\n",
    "    \n",
    "\n",
    "\n",
    "   \n",
    "    params['Tr'] = 0.6 \n",
    "    params['Vs'] = 0.1 \n",
    "    params['sigma_r'] = 0.01 \n",
    "    params['sigma_a']= 0.1  \n",
    "    params['tau_til'] = 20.0 \n",
    "    params['tau_a_til'] =  1.0 \n",
    "    "
   ]
  }
 ],
 "metadata": {
  "language_info": {
   "name": "python"
  },
  "orig_nbformat": 4
 },
 "nbformat": 4,
 "nbformat_minor": 2
}
